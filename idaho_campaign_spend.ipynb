{
  "nbformat": 4,
  "nbformat_minor": 0,
  "metadata": {
    "colab": {
      "provenance": [],
      "authorship_tag": "ABX9TyOLnMA0XU/5Q1UyBdhnHtoa",
      "include_colab_link": true
    },
    "kernelspec": {
      "name": "python3",
      "display_name": "Python 3"
    },
    "language_info": {
      "name": "python"
    }
  },
  "cells": [
    {
      "cell_type": "markdown",
      "metadata": {
        "id": "view-in-github",
        "colab_type": "text"
      },
      "source": [
        "<a href=\"https://colab.research.google.com/github/ckperry/idaho-elections/blob/main/idaho_campaign_spend.ipynb\" target=\"_parent\"><img src=\"https://colab.research.google.com/assets/colab-badge.svg\" alt=\"Open In Colab\"/></a>"
      ]
    },
    {
      "cell_type": "markdown",
      "source": [
        "Election data from\n",
        "\n",
        "https://sos.idaho.gov/elections-division/campaign-finance-data/\n",
        "\n",
        "https://sunshine.sos.idaho.gov/?dates[0]=2023-01-01T08:00:00.000Z&dates[1]=2024-01-01T08:00:00.000Z&activity_types[donate]=0&activity_types[spend]=1&activity_types[file]=0&_gl=1*1fs4j6o*_ga*NTYxMjU2MjE0LjE3MTk0NDQzNDI.*_ga_SN820FRG5P*MTcxOTQ0NDM0Mi4xLjEuMTcxOTQ0NDM4NS4xNy4wLjA."
      ],
      "metadata": {
        "id": "UTIp4zBlsCv3"
      }
    },
    {
      "cell_type": "code",
      "execution_count": null,
      "metadata": {
        "id": "5PZupIGg0wUl"
      },
      "outputs": [],
      "source": []
    }
  ]
}